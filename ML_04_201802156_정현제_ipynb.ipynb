{
  "nbformat": 4,
  "nbformat_minor": 0,
  "metadata": {
    "colab": {
      "provenance": [],
      "mount_file_id": "18RKc6uLAtTZD0dlgVUWAefudSIj2Nwr1",
      "authorship_tag": "ABX9TyPJduCbVBCXA/5bD1PyLrYQ",
      "include_colab_link": true
    },
    "kernelspec": {
      "name": "python3",
      "display_name": "Python 3"
    },
    "language_info": {
      "name": "python"
    }
  },
  "cells": [
    {
      "cell_type": "markdown",
      "metadata": {
        "id": "view-in-github",
        "colab_type": "text"
      },
      "source": [
        "<a href=\"https://colab.research.google.com/github/handsome1201/Big_Data/blob/main/ML_04_201802156_%EC%A0%95%ED%98%84%EC%A0%9C_ipynb.ipynb\" target=\"_parent\"><img src=\"https://colab.research.google.com/assets/colab-badge.svg\" alt=\"Open In Colab\"/></a>"
      ]
    },
    {
      "cell_type": "code",
      "execution_count": 141,
      "metadata": {
        "id": "OZ4wv1h9p7iV"
      },
      "outputs": [],
      "source": [
        "import pandas as pd\n",
        "from collections import Counter\n",
        "from sklearn.model_selection import train_test_split\n",
        "from sklearn.neighbors import KNeighborsClassifier\n",
        "from sklearn.metrics import accuracy_score, classification_report\n",
        "\n",
        "df = pd.read_csv('/content/drive/MyDrive/기계학습/lab4_test.csv')"
      ]
    },
    {
      "cell_type": "code",
      "source": [
        "X=df.iloc[:,:4]\n",
        "Y=df.iloc[:,4]\n",
        "X_train,X_test,Y_train,Y_test = train_test_split(X,Y\n",
        "                                                 ,test_size=0.25\n",
        "                                                 ,random_state=0)"
      ],
      "metadata": {
        "id": "8zQuO-ls4Jtg"
      },
      "execution_count": 142,
      "outputs": []
    },
    {
      "cell_type": "code",
      "source": [
        "knn = KNeighborsClassifier(n_neighbors=1)\n",
        "knn.fit(X_train,Y_train)\n",
        "knn.predict(X_test)\n",
        "knn.score(X_test,Y_test)\n",
        "accuracy_score(Y_test,knn.predict(X_test))"
      ],
      "metadata": {
        "colab": {
          "base_uri": "https://localhost:8080/"
        },
        "id": "_lL-Ja3v7uwZ",
        "outputId": "dfe0718b-4a04-44b5-a2bf-489a229f8bcf"
      },
      "execution_count": 143,
      "outputs": [
        {
          "output_type": "execute_result",
          "data": {
            "text/plain": [
              "0.8421052631578947"
            ]
          },
          "metadata": {},
          "execution_count": 143
        }
      ]
    },
    {
      "cell_type": "code",
      "source": [
        "knn = KNeighborsClassifier(n_neighbors=3)\n",
        "knn.fit(X_train,Y_train)\n",
        "knn.predict(X_test)\n",
        "knn.score(X_test,Y_test)\n",
        "accuracy_score(Y_test,knn.predict(X_test))"
      ],
      "metadata": {
        "colab": {
          "base_uri": "https://localhost:8080/"
        },
        "id": "YS0LiYCV-QoE",
        "outputId": "4b0b4234-c6d1-403a-a070-278fa0c83bc2"
      },
      "execution_count": 144,
      "outputs": [
        {
          "output_type": "execute_result",
          "data": {
            "text/plain": [
              "0.7631578947368421"
            ]
          },
          "metadata": {},
          "execution_count": 144
        }
      ]
    },
    {
      "cell_type": "code",
      "source": [
        "knn = KNeighborsClassifier(n_neighbors=5)\n",
        "knn.fit(X_train,Y_train)\n",
        "knn.predict(X_test)\n",
        "knn.score(X_test,Y_test)\n",
        "accuracy_score(Y_test,knn.predict(X_test))"
      ],
      "metadata": {
        "colab": {
          "base_uri": "https://localhost:8080/"
        },
        "id": "7VeYA-da-bw2",
        "outputId": "685911da-a8f6-492d-fbae-33babddca6d0"
      },
      "execution_count": 145,
      "outputs": [
        {
          "output_type": "execute_result",
          "data": {
            "text/plain": [
              "0.7631578947368421"
            ]
          },
          "metadata": {},
          "execution_count": 145
        }
      ]
    },
    {
      "cell_type": "code",
      "source": [
        "knn = KNeighborsClassifier(n_neighbors=10)\n",
        "knn.fit(X_train,Y_train)\n",
        "knn.predict(X_test)\n",
        "knn.score(X_test,Y_test)\n",
        "accuracy_score(Y_test,knn.predict(X_test))"
      ],
      "metadata": {
        "colab": {
          "base_uri": "https://localhost:8080/"
        },
        "id": "TFwm48Wl-b3X",
        "outputId": "42d5930a-5bbb-471e-fc7f-0e3d4130098f"
      },
      "execution_count": 146,
      "outputs": [
        {
          "output_type": "execute_result",
          "data": {
            "text/plain": [
              "0.7631578947368421"
            ]
          },
          "metadata": {},
          "execution_count": 146
        }
      ]
    },
    {
      "cell_type": "code",
      "source": [
        "from sklearn.preprocessing import StandardScaler\n",
        "scaler = StandardScaler()\n",
        "scaler.fit(X_train)"
      ],
      "metadata": {
        "colab": {
          "base_uri": "https://localhost:8080/"
        },
        "id": "Sopd87t3-f3T",
        "outputId": "00e1b1c3-e01b-46ae-f547-563d1ac40e02"
      },
      "execution_count": 147,
      "outputs": [
        {
          "output_type": "execute_result",
          "data": {
            "text/plain": [
              "StandardScaler()"
            ]
          },
          "metadata": {},
          "execution_count": 147
        }
      ]
    },
    {
      "cell_type": "code",
      "source": [
        "X_train = scaler.transform(X_train)\n",
        "X_test = scaler.transform(X_test)"
      ],
      "metadata": {
        "id": "3iclCU8M_LEG"
      },
      "execution_count": 148,
      "outputs": []
    },
    {
      "cell_type": "code",
      "source": [
        "knn = KNeighborsClassifier(n_neighbors=1)\n",
        "knn.fit(X_train,Y_train)\n",
        "knn.predict(X_test)\n",
        "knn.score(X_test,Y_test)\n",
        "accuracy_score(Y_test,knn.predict(X_test))"
      ],
      "metadata": {
        "colab": {
          "base_uri": "https://localhost:8080/"
        },
        "id": "2R1ZMNM9_Lim",
        "outputId": "d49533c2-623d-4cda-a109-bb5610a01d04"
      },
      "execution_count": 149,
      "outputs": [
        {
          "output_type": "execute_result",
          "data": {
            "text/plain": [
              "0.9473684210526315"
            ]
          },
          "metadata": {},
          "execution_count": 149
        }
      ]
    },
    {
      "cell_type": "code",
      "source": [
        "knn = KNeighborsClassifier(n_neighbors=3)\n",
        "knn.fit(X_train,Y_train)\n",
        "knn.predict(X_test)\n",
        "knn.score(X_test,Y_test)\n",
        "accuracy_score(Y_test,knn.predict(X_test))"
      ],
      "metadata": {
        "colab": {
          "base_uri": "https://localhost:8080/"
        },
        "id": "yhmHF0pI_Qbw",
        "outputId": "e7396ac6-e2be-4ec0-896e-63d68d0243c8"
      },
      "execution_count": 150,
      "outputs": [
        {
          "output_type": "execute_result",
          "data": {
            "text/plain": [
              "0.9736842105263158"
            ]
          },
          "metadata": {},
          "execution_count": 150
        }
      ]
    },
    {
      "cell_type": "code",
      "source": [
        "knn = KNeighborsClassifier(n_neighbors=5)\n",
        "knn.fit(X_train,Y_train)\n",
        "knn.predict(X_test)\n",
        "knn.score(X_test,Y_test)\n",
        "accuracy_score(Y_test,knn.predict(X_test))"
      ],
      "metadata": {
        "colab": {
          "base_uri": "https://localhost:8080/"
        },
        "id": "0cZP_FPo_cA8",
        "outputId": "f0eeea72-4b7d-4fcb-bdca-1526c0f3bd7d"
      },
      "execution_count": 151,
      "outputs": [
        {
          "output_type": "execute_result",
          "data": {
            "text/plain": [
              "0.9736842105263158"
            ]
          },
          "metadata": {},
          "execution_count": 151
        }
      ]
    },
    {
      "cell_type": "code",
      "source": [
        "knn = KNeighborsClassifier(n_neighbors=10)\n",
        "knn.fit(X_train,Y_train)\n",
        "knn.predict(X_test)\n",
        "knn.score(X_test,Y_test)\n",
        "accuracy_score(Y_test,knn.predict(X_test))"
      ],
      "metadata": {
        "colab": {
          "base_uri": "https://localhost:8080/"
        },
        "id": "CSicdqIk_dQV",
        "outputId": "5b54a555-d6b8-45e4-b69d-9ada84638cbf"
      },
      "execution_count": 152,
      "outputs": [
        {
          "output_type": "execute_result",
          "data": {
            "text/plain": [
              "0.9473684210526315"
            ]
          },
          "metadata": {},
          "execution_count": 152
        }
      ]
    }
  ]
}