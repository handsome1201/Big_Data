{
  "nbformat": 4,
  "nbformat_minor": 0,
  "metadata": {
    "colab": {
      "provenance": [],
      "mount_file_id": "1wUQRpA-t6Hq5_zt2EOc4cCZVxi1kmDo7",
      "authorship_tag": "ABX9TyOn3uGGadNwoett0qeSt3yq",
      "include_colab_link": true
    },
    "kernelspec": {
      "name": "python3",
      "display_name": "Python 3"
    },
    "language_info": {
      "name": "python"
    },
    "accelerator": "GPU",
    "gpuClass": "standard"
  },
  "cells": [
    {
      "cell_type": "markdown",
      "metadata": {
        "id": "view-in-github",
        "colab_type": "text"
      },
      "source": [
        "<a href=\"https://colab.research.google.com/github/handsome1201/Big_Data/blob/main/ML_10_201802156_%EC%A0%95%ED%98%84%EC%A0%9C.ipynb\" target=\"_parent\"><img src=\"https://colab.research.google.com/assets/colab-badge.svg\" alt=\"Open In Colab\"/></a>"
      ]
    },
    {
      "cell_type": "code",
      "execution_count": 1,
      "metadata": {
        "id": "eZQ3RNw7Gzhm"
      },
      "outputs": [],
      "source": [
        "import pandas as pd\n",
        "from functools import reduce\n",
        "import numpy as np\n",
        "from numpy import random\n",
        "\n",
        "\n",
        "df = pd.read_csv('/content/drive/MyDrive/기계학습/Hidden Layer.csv')"
      ]
    },
    {
      "cell_type": "code",
      "source": [
        "def init_network(): \n",
        "    network = {} \n",
        "    network['bias'] = 1\n",
        "    network['weight1'] = x_list = random.uniform(0,1)\n",
        "    # network['weight2'] = x_list = random.uniform(0,1)\n",
        "    return network "
      ],
      "metadata": {
        "id": "yQLYSPvyKozI"
      },
      "execution_count": 4,
      "outputs": []
    },
    {
      "cell_type": "code",
      "source": [
        "def sigmoid(x): \n",
        "    return 1 / (1 + np.exp(-x))"
      ],
      "metadata": {
        "id": "kfmiyfyPBeF4"
      },
      "execution_count": 6,
      "outputs": []
    },
    {
      "cell_type": "code",
      "source": [
        "def MSELoss(x,y):\n",
        "  return np.square(np.subtract(x, y)).mean()"
      ],
      "metadata": {
        "id": "tJKb2g-nN27G"
      },
      "execution_count": 57,
      "outputs": []
    },
    {
      "cell_type": "code",
      "source": [
        "x=df.loc[:,['x1','x2']].to_numpy()\n",
        "y=df.loc[:,['y']].to_numpy()"
      ],
      "metadata": {
        "id": "oZGXSn-f-LWA"
      },
      "execution_count": 36,
      "outputs": []
    },
    {
      "cell_type": "code",
      "source": [
        "def train(network,t):\n",
        "\n",
        "  w=network['weight1']\n",
        "  b=network['bias']\n",
        "  #학습률\n",
        "  a=0.1\n",
        "\n",
        "  for i in range(100):\n",
        "    error_sum = 0\n",
        "    for j in range(4):\n",
        "      output = sigmoid(np.sum(x[j]*w)+b)\n",
        "      error = y[j][0] - output\n",
        "      w = w + x[j] * a * error\n",
        "      b = b + a * error\n",
        "      error_sum += error\n",
        "\n",
        "  return MSELoss(sigmoid(np.sum(x[t]*w)+b),y[t])\n"
      ],
      "metadata": {
        "id": "nk4V62819OVi"
      },
      "execution_count": 59,
      "outputs": []
    },
    {
      "cell_type": "code",
      "source": [
        "def test(network,t):\n",
        "  if(train(init_network(),t)>=0.5):\n",
        "    return print('1')\n",
        "  else:\n",
        "    return print('0')\n"
      ],
      "metadata": {
        "id": "bxGLZx69wWBC"
      },
      "execution_count": 64,
      "outputs": []
    },
    {
      "cell_type": "code",
      "source": [
        "if __name__ == '__main__':\n",
        "  for i in range(4):\n",
        "    print(test(init_network()))"
      ],
      "metadata": {
        "colab": {
          "base_uri": "https://localhost:8080/"
        },
        "id": "vovEQKuy2azR",
        "outputId": "025610b8-44e6-465f-f632-8c60cd84d826"
      },
      "execution_count": 66,
      "outputs": [
        {
          "output_type": "stream",
          "name": "stdout",
          "text": [
            "0\n",
            "None\n",
            "0\n",
            "None\n",
            "0\n",
            "None\n",
            "0\n",
            "None\n"
          ]
        }
      ]
    },
    {
      "cell_type": "code",
      "source": [],
      "metadata": {
        "id": "5eFAFAHu9UEi"
      },
      "execution_count": null,
      "outputs": []
    }
  ]
}