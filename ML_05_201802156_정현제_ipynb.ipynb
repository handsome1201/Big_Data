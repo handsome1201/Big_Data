{
  "nbformat": 4,
  "nbformat_minor": 0,
  "metadata": {
    "colab": {
      "provenance": [],
      "mount_file_id": "1b-ENNsSBgSCmJ11E2P3Cybl2dZRHmjwc",
      "authorship_tag": "ABX9TyNYsBrvT9zv7y4+UebnVzDv",
      "include_colab_link": true
    },
    "kernelspec": {
      "name": "python3",
      "display_name": "Python 3"
    },
    "language_info": {
      "name": "python"
    }
  },
  "cells": [
    {
      "cell_type": "markdown",
      "metadata": {
        "id": "view-in-github",
        "colab_type": "text"
      },
      "source": [
        "<a href=\"https://colab.research.google.com/github/handsome1201/Big_Data/blob/main/ML_05_201802156_%EC%A0%95%ED%98%84%EC%A0%9C_ipynb.ipynb\" target=\"_parent\"><img src=\"https://colab.research.google.com/assets/colab-badge.svg\" alt=\"Open In Colab\"/></a>"
      ]
    },
    {
      "cell_type": "code",
      "execution_count": 234,
      "metadata": {
        "id": "TvZkxu0U9S-n"
      },
      "outputs": [],
      "source": [
        "import pandas as pd\n",
        "from functools import reduce\n",
        "import numpy as np\n",
        "\n",
        "df = pd.read_csv('/content/drive/MyDrive/기계학습/tic-tac-toe (1).csv')"
      ]
    },
    {
      "cell_type": "code",
      "source": [
        "features=df.iloc[:,:9]\n",
        "feature_key=df.iloc[:,9]\n",
        "columns = features.columns"
      ],
      "metadata": {
        "id": "UaT8TY1ie0J2"
      },
      "execution_count": 235,
      "outputs": []
    },
    {
      "cell_type": "code",
      "source": [
        "from sklearn.model_selection import train_test_split\n",
        "\n",
        "X_train,X_test,Y_train,Y_test = train_test_split(features,feature_key\n",
        "                                                 ,test_size=0.25\n",
        "                                                 ,random_state=0)"
      ],
      "metadata": {
        "id": "6wQk8Ouy5tcZ"
      },
      "execution_count": 236,
      "outputs": []
    },
    {
      "cell_type": "code",
      "source": [
        "def gini(df, label):\n",
        "    D_len = df[label].count() # 데이터 전체 길이\n",
        "    # 각 클래스별 Count를 담은 Generator 생성\n",
        "    count_arr = (value for key, value in df[label].value_counts().items())\n",
        "    # reduce를 이용해 초기값 1에서 각 클래스 (count / D_len)^2 빼기\n",
        "    return reduce(lambda x, y: x - (y/D_len)**2 ,count_arr,1)"
      ],
      "metadata": {
        "id": "wFikLO_gvXFs"
      },
      "execution_count": 237,
      "outputs": []
    },
    {
      "cell_type": "code",
      "source": [
        "for i in features:\n",
        "  print(gini(df,i))"
      ],
      "metadata": {
        "colab": {
          "base_uri": "https://localhost:8080/"
        },
        "id": "-hg84g9PFEvt",
        "outputId": "507b32b7-4fda-4c7e-b2e4-1d0a9f8c08ef"
      },
      "execution_count": 238,
      "outputs": [
        {
          "output_type": "stream",
          "name": "stdout",
          "text": [
            "0.6417105876623767\n",
            "0.6576629990314996\n",
            "0.6417105876623767\n",
            "0.6576629990314996\n",
            "0.6175297456240056\n",
            "0.657558178258643\n",
            "0.6417105876623767\n",
            "0.657558178258643\n",
            "0.6415293350759786\n"
          ]
        }
      ]
    },
    {
      "cell_type": "code",
      "source": [
        "mini_gini=gini(df,columns[0])\n",
        "for i in features:\n",
        "  if (gini(df,i)<mini_gini):\n",
        "    mini_gini=gini(df,i)\n",
        "\n",
        "print(mini_gini)"
      ],
      "metadata": {
        "colab": {
          "base_uri": "https://localhost:8080/"
        },
        "id": "hJ3bDYdN-962",
        "outputId": "a5d651d7-420d-4927-d42f-b85c9a6176e6"
      },
      "execution_count": 239,
      "outputs": [
        {
          "output_type": "stream",
          "name": "stdout",
          "text": [
            "0.6175297456240056\n"
          ]
        }
      ]
    },
    {
      "cell_type": "code",
      "source": [
        "from itertools import combinations\n",
        "\n",
        "arr = np.unique(features)"
      ],
      "metadata": {
        "id": "KIG-IW2T_9Rz"
      },
      "execution_count": 240,
      "outputs": []
    },
    {
      "cell_type": "code",
      "source": [
        "uni = []\n",
        "for i in range(len(arr) + 1):\n",
        "  uni = uni + list(combinations(arr, i))\n"
      ],
      "metadata": {
        "id": "y7hbH4mgAT08"
      },
      "execution_count": 241,
      "outputs": []
    },
    {
      "cell_type": "code",
      "source": [
        "get_gini = [0 for i in range(len(columns))]\n",
        "get_gini_index = 0\n",
        "score = 0"
      ],
      "metadata": {
        "id": "jIVyLOtfAvYQ"
      },
      "execution_count": 242,
      "outputs": []
    },
    {
      "cell_type": "code",
      "source": [
        "for col in columns:\n",
        "  print(col)\n",
        "  length = len(X_train[col])\n",
        "\n",
        "  list_train_feat = list(X_train[col])\n",
        "  list_train_label = list(Y_train)\n",
        "\n",
        "  pos_con = []  \n",
        "\n",
        "  min = 1\n",
        "  for i in range(8):\n",
        "    pos_con = list(uni[i])\n",
        "    pos = []\n",
        "    neg = []\n",
        "    \n",
        "    for j in range(length):\n",
        "      if list_train_feat[j] in pos_con:\n",
        "        pos.append(list_train_label[j])\n",
        "      else:\n",
        "        neg.append(list_train_label[j])\n",
        "    now_gini = mini_gini\n",
        "    if min > now_gini:\n",
        "      min = now_gini\n",
        "\n",
        "  get_gini[get_gini_index] = min\n",
        "  get_gini_index += 1\n",
        "\n",
        "min_index = 1\n",
        "for i in range(len(get_gini)):\n",
        "  if min_index > get_gini[i]:\n",
        "    min_index = i "
      ],
      "metadata": {
        "colab": {
          "base_uri": "https://localhost:8080/"
        },
        "id": "r-GxY4SEAz1r",
        "outputId": "1f35efdd-8f9c-4626-be16-a545e20e01fe"
      },
      "execution_count": 243,
      "outputs": [
        {
          "output_type": "stream",
          "name": "stdout",
          "text": [
            "top-left-square\n",
            "top-middle-square\n",
            "top-right-square\n",
            "middle-left-square\n",
            "middle-middle-square\n",
            "middle-right-square\n",
            "bottom-left-square\n",
            "bottom-middle-square\n",
            "bottom-right-square\n"
          ]
        }
      ]
    },
    {
      "cell_type": "code",
      "source": [
        "feat = list(X_test[columns[min_index]])\n",
        "label = list(Y_test)\n",
        "\n",
        "positive = []\n",
        "negative = []"
      ],
      "metadata": {
        "id": "q6inCbV5CHE5"
      },
      "execution_count": 244,
      "outputs": []
    },
    {
      "cell_type": "code",
      "source": [
        "for i in range(len(X_test[columns[min_index]])):\n",
        "  if 'o' in feat[i]:\n",
        "    positive.append(label[i])\n",
        "  else:\n",
        "    negative.append(label[i])\n",
        "\n",
        "positive_count = positive.count('positive')\n",
        "negative_count = negative.count('negative')\n",
        "\n",
        "accuracy_score = (positive_count + negative_count) / (len(positive) + len(negative)) * 100\n",
        "\n",
        "print(accuracy_score)"
      ],
      "metadata": {
        "colab": {
          "base_uri": "https://localhost:8080/"
        },
        "id": "Kp0TxaFDEkT2",
        "outputId": "9b81095c-950f-499c-8bce-b71c4c38df69"
      },
      "execution_count": 245,
      "outputs": [
        {
          "output_type": "stream",
          "name": "stdout",
          "text": [
            "42.916666666666664\n"
          ]
        }
      ]
    },
    {
      "cell_type": "code",
      "source": [],
      "metadata": {
        "id": "ACG_P-x5PcsV"
      },
      "execution_count": 245,
      "outputs": []
    }
  ]
}