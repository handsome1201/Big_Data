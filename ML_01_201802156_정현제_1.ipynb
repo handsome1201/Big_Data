{
  "nbformat": 4,
  "nbformat_minor": 0,
  "metadata": {
    "colab": {
      "provenance": [],
      "collapsed_sections": [],
      "mount_file_id": "14hQn_BMy1beY41IGRFkgW7wzry6fJkuP",
      "authorship_tag": "ABX9TyPlA2ZtcelwaOUCkYdKAbAE",
      "include_colab_link": true
    },
    "kernelspec": {
      "name": "python3",
      "display_name": "Python 3"
    },
    "language_info": {
      "name": "python"
    }
  },
  "cells": [
    {
      "cell_type": "markdown",
      "metadata": {
        "id": "view-in-github",
        "colab_type": "text"
      },
      "source": [
        "<a href=\"https://colab.research.google.com/github/handsome1201/Big_Data/blob/main/ML_01_201802156_%EC%A0%95%ED%98%84%EC%A0%9C_1.ipynb\" target=\"_parent\"><img src=\"https://colab.research.google.com/assets/colab-badge.svg\" alt=\"Open In Colab\"/></a>"
      ]
    },
    {
      "cell_type": "code",
      "execution_count": 1,
      "metadata": {
        "id": "Q_GIPc6icoCA"
      },
      "outputs": [],
      "source": [
        "def count(my_list):\n",
        "  new_list = {}\n",
        "  for i in my_list:\n",
        "    try: new_list[i] += 1\n",
        "    except: new_list[i] = 1\n",
        "  return(new_list)"
      ]
    },
    {
      "cell_type": "code",
      "source": [
        "f = open(\"/content/drive/MyDrive/기계학습/lab1_test.txt\", \"r\")\n",
        "\n",
        "list = []\n",
        "while True:\n",
        "    line = f.readline().split()\n",
        "    if not line: \n",
        "      break\n",
        "    list.append(line)"
      ],
      "metadata": {
        "id": "jI03Fp6udL-1"
      },
      "execution_count": 2,
      "outputs": []
    },
    {
      "cell_type": "code",
      "source": [
        "for i in range(len(list)):\n",
        "    print(count(list[i]))\n",
        "    print(list[i])"
      ],
      "metadata": {
        "colab": {
          "base_uri": "https://localhost:8080/"
        },
        "id": "XC5xyjKctxxb",
        "outputId": "d3814106-1af4-4663-9390-5420b9571b07"
      },
      "execution_count": 28,
      "outputs": [
        {
          "output_type": "stream",
          "name": "stdout",
          "text": [
            "{'one': 3, 'two': 2, 'seven': 4, 'three': 1, 'four': 1, 'five': 2, 'six': 1}\n",
            "['one', 'two', 'seven', 'one', 'two', 'three', 'four', 'five', 'one', 'five', 'six', 'seven', 'seven', 'seven']\n",
            "{'baby': 2, '1': 3, 'school': 1, '2': 3, 'child': 1}\n",
            "['baby', '1', 'school', '2', 'child', '1', 'baby', '2', '1', '2']\n"
          ]
        }
      ]
    }
  ]
}