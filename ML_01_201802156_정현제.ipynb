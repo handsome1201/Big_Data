{
  "nbformat": 4,
  "nbformat_minor": 0,
  "metadata": {
    "colab": {
      "provenance": [],
      "collapsed_sections": [],
      "mount_file_id": "14hQn_BMy1beY41IGRFkgW7wzry6fJkuP",
      "authorship_tag": "ABX9TyOWvNxz3yHxaiKUFGQAKsMH",
      "include_colab_link": true
    },
    "kernelspec": {
      "name": "python3",
      "display_name": "Python 3"
    },
    "language_info": {
      "name": "python"
    }
  },
  "cells": [
    {
      "cell_type": "markdown",
      "metadata": {
        "id": "view-in-github",
        "colab_type": "text"
      },
      "source": [
        "<a href=\"https://colab.research.google.com/github/handsome1201/Big_Data/blob/main/ML_01_201802156_%EC%A0%95%ED%98%84%EC%A0%9C.ipynb\" target=\"_parent\"><img src=\"https://colab.research.google.com/assets/colab-badge.svg\" alt=\"Open In Colab\"/></a>"
      ]
    },
    {
      "cell_type": "code",
      "execution_count": 131,
      "metadata": {
        "id": "Q_GIPc6icoCA"
      },
      "outputs": [],
      "source": [
        "def count(my_list):\n",
        "  new_list = {}\n",
        "  for i in my_list:\n",
        "    try: new_list[i] += 1\n",
        "    except: new_list[i] = 1\n",
        "  return(new_list)"
      ]
    },
    {
      "cell_type": "code",
      "source": [
        "f = open(\"/content/drive/MyDrive/기계학습/lab1_test.txt\", \"r\")\n",
        "\n",
        "list = []\n",
        "while True:\n",
        "    line = f.readline().split()\n",
        "    if not line: \n",
        "      break\n",
        "    list.append(line)"
      ],
      "metadata": {
        "id": "jI03Fp6udL-1"
      },
      "execution_count": 132,
      "outputs": []
    },
    {
      "cell_type": "code",
      "source": [
        "count(list[0])"
      ],
      "metadata": {
        "colab": {
          "base_uri": "https://localhost:8080/"
        },
        "id": "MX2tVsnomUdf",
        "outputId": "155838b5-5875-458d-dc65-87dd39745ce4"
      },
      "execution_count": 133,
      "outputs": [
        {
          "output_type": "execute_result",
          "data": {
            "text/plain": [
              "{'one': 3, 'two': 2, 'seven': 4, 'three': 1, 'four': 1, 'five': 2, 'six': 1}"
            ]
          },
          "metadata": {},
          "execution_count": 133
        }
      ]
    },
    {
      "cell_type": "code",
      "source": [
        "print(list[0])"
      ],
      "metadata": {
        "colab": {
          "base_uri": "https://localhost:8080/"
        },
        "id": "GXcdYBdJMfEU",
        "outputId": "cb2d1acb-1eae-4a9a-b89e-298456e41c6d"
      },
      "execution_count": 134,
      "outputs": [
        {
          "output_type": "stream",
          "name": "stdout",
          "text": [
            "['one', 'two', 'seven', 'one', 'two', 'three', 'four', 'five', 'one', 'five', 'six', 'seven', 'seven', 'seven']\n"
          ]
        }
      ]
    },
    {
      "cell_type": "code",
      "source": [
        "count(list[1])"
      ],
      "metadata": {
        "colab": {
          "base_uri": "https://localhost:8080/"
        },
        "id": "dybkDi6OuCVJ",
        "outputId": "250a9475-213e-410b-a54a-0b3833336f5e"
      },
      "execution_count": 135,
      "outputs": [
        {
          "output_type": "execute_result",
          "data": {
            "text/plain": [
              "{'baby': 2, '1': 2, 'school': 1, '2': 2, 'child': 1}"
            ]
          },
          "metadata": {},
          "execution_count": 135
        }
      ]
    },
    {
      "cell_type": "code",
      "source": [
        "print(list[1])"
      ],
      "metadata": {
        "colab": {
          "base_uri": "https://localhost:8080/"
        },
        "id": "Wt9p-XSMLm5Z",
        "outputId": "28225e62-8d9a-492c-c34b-407073c187c8"
      },
      "execution_count": 136,
      "outputs": [
        {
          "output_type": "stream",
          "name": "stdout",
          "text": [
            "['baby', '1', 'school', '2', 'child', '1', 'baby', '2']\n"
          ]
        }
      ]
    }
  ]
}