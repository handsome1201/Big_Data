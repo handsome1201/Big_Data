{
  "nbformat": 4,
  "nbformat_minor": 0,
  "metadata": {
    "colab": {
      "provenance": [],
      "collapsed_sections": [],
      "mount_file_id": "1fdMOHJSptJVDzanHso9Cr5o4FSJsjicx",
      "authorship_tag": "ABX9TyMZBR54lzFxxVbRfZc5ZBYs",
      "include_colab_link": true
    },
    "kernelspec": {
      "name": "python3",
      "display_name": "Python 3"
    },
    "language_info": {
      "name": "python"
    }
  },
  "cells": [
    {
      "cell_type": "markdown",
      "metadata": {
        "id": "view-in-github",
        "colab_type": "text"
      },
      "source": [
        "<a href=\"https://colab.research.google.com/github/handsome1201/Big_Data/blob/main/ML_02_201802156_%EC%A0%95%ED%98%84%EC%A0%9C.ipynb\" target=\"_parent\"><img src=\"https://colab.research.google.com/assets/colab-badge.svg\" alt=\"Open In Colab\"/></a>"
      ]
    },
    {
      "cell_type": "code",
      "source": [
        "import numpy as np\n",
        "import pandas as pd\n",
        "from collections import Counter\n",
        "\n",
        "csv_data = np.loadtxt('/content/drive/MyDrive/기계학습/lab2_iris.csv', delimiter=',', dtype=np.float)"
      ],
      "metadata": {
        "id": "C2EunOQ3zgdM",
        "colab": {
          "base_uri": "https://localhost:8080/"
        },
        "outputId": "10256963-122a-4f73-f483-a1374be31515"
      },
      "execution_count": 7,
      "outputs": [
        {
          "output_type": "stream",
          "name": "stderr",
          "text": [
            "/usr/local/lib/python3.7/dist-packages/ipykernel_launcher.py:5: DeprecationWarning: `np.float` is a deprecated alias for the builtin `float`. To silence this warning, use `float` by itself. Doing this will not modify any behavior and is safe. If you specifically wanted the numpy scalar type, use `np.float64` here.\n",
            "Deprecated in NumPy 1.20; for more details and guidance: https://numpy.org/devdocs/release/1.20.0-notes.html#deprecations\n",
            "  \"\"\"\n"
          ]
        }
      ]
    },
    {
      "cell_type": "code",
      "source": [
        "print(\"number of samples : \" ,len(csv_data))\n",
        "print(\"number of class : \",len(set(csv_data.T[-1])))\n",
        "for i in  np.unique(csv_data[:, 4]):\n",
        "    print(\"---------------------------------------------------------------------------------------\")\n",
        "    print(\"Number of samples in class {} : {}\".format(i, len(csv_data[(csv_data[:, [4]] == i)[:, 0]])))\n",
        "    print(\"Avg vector in class {} : {}\".format(i, np.average(csv_data[(csv_data[:, [4]] == i)[:, 0]][:, :4], axis=0)))\n",
        "    print(\"Standard Deviation in class {} : {}\".format(i, np.std(csv_data[(csv_data[:, [4]] == i)[:, 0]][:, :4], axis=0)))"
      ],
      "metadata": {
        "colab": {
          "base_uri": "https://localhost:8080/"
        },
        "id": "Il5BOMDb8uUH",
        "outputId": "c18c8541-65a9-40c4-fca9-54bcf4cd818e"
      },
      "execution_count": 11,
      "outputs": [
        {
          "output_type": "stream",
          "name": "stdout",
          "text": [
            "number of samples :  150\n",
            "number of class :  3\n",
            "---------------------------------------------------------------------------------------\n",
            "Number of samples in class 1.0 : 50\n",
            "Avg vector in class 1.0 : [5.006 3.418 1.464 0.244]\n",
            "Standard Deviation in class 1.0 : [0.34894699 0.37719491 0.17176728 0.10613199]\n",
            "---------------------------------------------------------------------------------------\n",
            "Number of samples in class 2.0 : 50\n",
            "Avg vector in class 2.0 : [5.936 2.77  4.26  1.326]\n",
            "Standard Deviation in class 2.0 : [0.51098337 0.31064449 0.46518813 0.19576517]\n",
            "---------------------------------------------------------------------------------------\n",
            "Number of samples in class 3.0 : 50\n",
            "Avg vector in class 3.0 : [6.588 2.974 5.552 2.026]\n",
            "Standard Deviation in class 3.0 : [0.62948868 0.31925538 0.54634787 0.27188968]\n"
          ]
        }
      ]
    },
    {
      "cell_type": "code",
      "source": [],
      "metadata": {
        "id": "6RF1XK5Z_z1z"
      },
      "execution_count": null,
      "outputs": []
    }
  ]
}