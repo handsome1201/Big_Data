{
  "nbformat": 4,
  "nbformat_minor": 0,
  "metadata": {
    "colab": {
      "provenance": [],
      "collapsed_sections": [],
      "mount_file_id": "1XwWBY4P15NlQVDLMTKMbp_MRGkiSwr38",
      "authorship_tag": "ABX9TyMALY1HygohsilQgU3xOdqh",
      "include_colab_link": true
    },
    "kernelspec": {
      "name": "python3",
      "display_name": "Python 3"
    },
    "language_info": {
      "name": "python"
    }
  },
  "cells": [
    {
      "cell_type": "markdown",
      "metadata": {
        "id": "view-in-github",
        "colab_type": "text"
      },
      "source": [
        "<a href=\"https://colab.research.google.com/github/handsome1201/Big_Data/blob/main/ML_06_201802156_%EC%A0%95%ED%98%84%EC%A0%9C_ipynb.ipynb\" target=\"_parent\"><img src=\"https://colab.research.google.com/assets/colab-badge.svg\" alt=\"Open In Colab\"/></a>"
      ]
    },
    {
      "cell_type": "code",
      "execution_count": null,
      "metadata": {
        "id": "Vh6lYTUk_IAl"
      },
      "outputs": [],
      "source": [
        "import pandas as pd\n",
        "from functools import reduce\n",
        "import numpy as np\n",
        "\n",
        "df = pd.read_csv('/content/drive/MyDrive/기계학습/tic-tac-toe (1).csv')"
      ]
    },
    {
      "cell_type": "code",
      "source": [
        "df= df.replace('o',0)\n",
        "df= df.replace('x',1)\n",
        "df= df.replace('b',2)"
      ],
      "metadata": {
        "id": "vD3YEQ0GdgW2"
      },
      "execution_count": null,
      "outputs": []
    },
    {
      "cell_type": "code",
      "source": [
        "from sklearn.model_selection import train_test_split\n",
        "\n",
        "features=df.iloc[:,:9]\n",
        "feature_key=df.iloc[:,9]\n",
        "\n",
        "X_train,X_test,Y_train,Y_test = train_test_split(features,feature_key\n",
        "                                                 ,test_size=0.25\n",
        "                                                 ,random_state=0)"
      ],
      "metadata": {
        "id": "RSjMX108_T1I"
      },
      "execution_count": null,
      "outputs": []
    },
    {
      "cell_type": "code",
      "source": [
        "from sklearn.tree import DecisionTreeClassifier\n",
        "\n",
        "for i in range(10): \n",
        "  globals()['tree%d'%i]=DecisionTreeClassifier(criterion='entropy', random_state=i)"
      ],
      "metadata": {
        "id": "LMOnqw9y8bUD"
      },
      "execution_count": null,
      "outputs": []
    },
    {
      "cell_type": "code",
      "source": [
        "for i in range(10): \n",
        "  globals()['tree%d'%i].fit(X_train,Y_train)"
      ],
      "metadata": {
        "id": "Q9T94QLm9MV6"
      },
      "execution_count": null,
      "outputs": []
    },
    {
      "cell_type": "code",
      "source": [
        "for i in range(10): \n",
        "  globals()['y%d'%i]=globals()['tree%d'%i].predict(X_test)"
      ],
      "metadata": {
        "id": "kQiNxEOo9TVb"
      },
      "execution_count": null,
      "outputs": []
    },
    {
      "cell_type": "code",
      "source": [
        "from sklearn.metrics import accuracy_score\n",
        "\n",
        "for i in range(10): \n",
        "  print('Accuracy: %.2f' % accuracy_score(Y_test,globals()['y%d'%i]))\n",
        "\n",
        "avg=0\n",
        "for i in range(10): \n",
        "  avg+=accuracy_score(Y_test,globals()['y%d'%i])\n",
        "\n",
        "print(\"평균:\", avg/10)"
      ],
      "metadata": {
        "colab": {
          "base_uri": "https://localhost:8080/"
        },
        "id": "zreC0y1Cf9Ux",
        "outputId": "eccc29f4-2875-4964-de9a-e30232fed579"
      },
      "execution_count": null,
      "outputs": [
        {
          "output_type": "stream",
          "name": "stdout",
          "text": [
            "Accuracy: 0.91\n",
            "Accuracy: 0.92\n",
            "Accuracy: 0.92\n",
            "Accuracy: 0.91\n",
            "Accuracy: 0.91\n",
            "Accuracy: 0.92\n",
            "Accuracy: 0.92\n",
            "Accuracy: 0.91\n",
            "Accuracy: 0.91\n",
            "Accuracy: 0.92\n",
            "평균: 0.9145833333333332\n"
          ]
        }
      ]
    },
    {
      "cell_type": "code",
      "source": [
        "from sklearn.ensemble import RandomForestClassifier\n",
        "\n",
        "rfc = RandomForestClassifier(bootstrap=True,criterion='entropy', random_state=0)"
      ],
      "metadata": {
        "id": "q_9QZyGDgB7r"
      },
      "execution_count": null,
      "outputs": []
    },
    {
      "cell_type": "code",
      "source": [
        "rfc.fit(X_train,Y_train)"
      ],
      "metadata": {
        "colab": {
          "base_uri": "https://localhost:8080/"
        },
        "id": "qcEubgrACY5b",
        "outputId": "698518c1-23ca-4a48-e3c4-a7b78d878654"
      },
      "execution_count": null,
      "outputs": [
        {
          "output_type": "execute_result",
          "data": {
            "text/plain": [
              "RandomForestClassifier(criterion='entropy', random_state=0)"
            ]
          },
          "metadata": {},
          "execution_count": 49
        }
      ]
    },
    {
      "cell_type": "code",
      "source": [
        "rfc_predict=rfc.predict(X_test)\n",
        "print(accuracy_score(Y_test,rfc_predict))"
      ],
      "metadata": {
        "colab": {
          "base_uri": "https://localhost:8080/"
        },
        "id": "ttbCgo-ICh21",
        "outputId": "2a92c193-4386-4ceb-d492-c9ff71319b52"
      },
      "execution_count": null,
      "outputs": [
        {
          "output_type": "stream",
          "name": "stdout",
          "text": [
            "0.9583333333333334\n"
          ]
        }
      ]
    },
    {
      "cell_type": "code",
      "source": [
        "rfc_f = RandomForestClassifier(bootstrap=False,criterion='entropy', random_state=0)\n",
        "rfc_f.fit(X_train,Y_train)\n",
        "rfc_predict_f=rfc_f.predict(X_test)\n",
        "print(accuracy_score(Y_test,rfc_predict_f))"
      ],
      "metadata": {
        "colab": {
          "base_uri": "https://localhost:8080/"
        },
        "id": "i29_6jnID4SM",
        "outputId": "527c078c-9e96-43c0-d8dc-89f2978b4c77"
      },
      "execution_count": null,
      "outputs": [
        {
          "output_type": "stream",
          "name": "stdout",
          "text": [
            "0.9583333333333334\n"
          ]
        }
      ]
    }
  ]
}