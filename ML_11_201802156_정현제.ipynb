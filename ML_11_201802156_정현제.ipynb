{
  "nbformat": 4,
  "nbformat_minor": 0,
  "metadata": {
    "colab": {
      "provenance": [],
      "mount_file_id": "1jAnnZxS3f9nF1Jd_Avhb_pfyIf-4eXF5",
      "authorship_tag": "ABX9TyNiNC/0JlbaAJaG2j1RVy1C",
      "include_colab_link": true
    },
    "kernelspec": {
      "name": "python3",
      "display_name": "Python 3"
    },
    "language_info": {
      "name": "python"
    },
    "accelerator": "GPU",
    "gpuClass": "standard"
  },
  "cells": [
    {
      "cell_type": "markdown",
      "metadata": {
        "id": "view-in-github",
        "colab_type": "text"
      },
      "source": [
        "<a href=\"https://colab.research.google.com/github/handsome1201/Big_Data/blob/main/ML_11_201802156_%EC%A0%95%ED%98%84%EC%A0%9C.ipynb\" target=\"_parent\"><img src=\"https://colab.research.google.com/assets/colab-badge.svg\" alt=\"Open In Colab\"/></a>"
      ]
    },
    {
      "cell_type": "code",
      "execution_count": null,
      "metadata": {
        "id": "x67o1puVS97P"
      },
      "outputs": [],
      "source": [
        "def convert(imgf,labelf,outf,n):\n",
        "  f = open(imgf,\"rb\")\n",
        "  o = open(outf,\"w\")\n",
        "  l = open(labelf,\"rb\")\n",
        "\n",
        "  f.read(16)\n",
        "  l.read(8)\n",
        "  images = []\n",
        "\n",
        "  for i in range(n):\n",
        "    image = [ord(l.read(1))]\n",
        "    for j in range(28*28): \n",
        "      image.append(ord(f.read(1)))\n",
        "    images.append(image)\n",
        "\n",
        "  for image in images:\n",
        "    o.write(\",\".join(str(pix) for pix in image)+\"\\n\")\n",
        "  \n",
        "  f.close()\n",
        "  o.close()\n",
        "  l.close()"
      ]
    },
    {
      "cell_type": "markdown",
      "source": [],
      "metadata": {
        "id": "F9FqmzeEDzn5"
      }
    },
    {
      "cell_type": "code",
      "source": [
        "convert(\"/content/drive/MyDrive/기계학습/train-images.idx3-ubyte\",\"/content/drive/MyDrive/기계학습/train-labels.idx1-ubyte\",\"mnist_train.csv\",60000)\n",
        "convert(\"/content/drive/MyDrive/기계학습/t10k-images.idx3-ubyte\",\"/content/drive/MyDrive/기계학습/t10k-labels.idx1-ubyte\",\"mnist_test.csv\",10000)"
      ],
      "metadata": {
        "id": "vtkBJlE3TFrQ"
      },
      "execution_count": null,
      "outputs": []
    },
    {
      "cell_type": "code",
      "source": [
        "import pandas as pd\n",
        "import numpy as np\n",
        "import sklearn.neural_network as neural_network"
      ],
      "metadata": {
        "id": "4oNgwbuvTTWi"
      },
      "execution_count": null,
      "outputs": []
    },
    {
      "cell_type": "code",
      "source": [
        "train_df = pd.read_csv(\"mnist_train.csv\")\n",
        "test_df = pd.read_csv(\"mnist_test.csv\")"
      ],
      "metadata": {
        "id": "2TiqnycBT089"
      },
      "execution_count": null,
      "outputs": []
    },
    {
      "cell_type": "code",
      "source": [
        "column_name=[]\n",
        "for i in range(len(train_df.columns)):\n",
        "  if i==0:\n",
        "    column_name.append('label')\n",
        "  else:\n",
        "    column_name.append('feats_'+str(i))\n",
        "\n",
        "train_df.columns=column_name\n",
        "test_df.columns=column_name"
      ],
      "metadata": {
        "id": "inPJ-RDIBW5D"
      },
      "execution_count": null,
      "outputs": []
    },
    {
      "cell_type": "code",
      "source": [
        "train_df.to_csv(\"mnist_train_final.csv\",index=False)\n",
        "test_df.to_csv(\"mnist_test_final.csv\",index=False)"
      ],
      "metadata": {
        "id": "Vi-UdjEMT4GJ"
      },
      "execution_count": null,
      "outputs": []
    },
    {
      "cell_type": "code",
      "source": [
        "X_train=train_df\n",
        "Y_test=test_df"
      ],
      "metadata": {
        "id": "3s8AaBWAY_Ew"
      },
      "execution_count": null,
      "outputs": []
    },
    {
      "cell_type": "code",
      "source": [
        "from sklearn.model_selection import train_test_split\n",
        "\n",
        "features = X_train.iloc[:, 1:]\n",
        "labels = X_train.iloc[:, 0]\n",
        "features=features/255\n",
        "train_feats, test_feats, train_labels, test_labels = train_test_split(features, labels, test_size=0.2,random_state=0)"
      ],
      "metadata": {
        "id": "dtos50tFRlnh"
      },
      "execution_count": null,
      "outputs": []
    },
    {
      "cell_type": "code",
      "source": [
        "from sklearn.neural_network import MLPClassifier\n",
        "from sklearn.datasets import data\n",
        "\n",
        "model1 = MLPClassifier(hidden_layer_sizes=(200,100),solver='adam',warm_start=True, max_iter=1,learning_rate_init=0.01,verbose=True)\n",
        "model2 = MLPClassifier(hidden_layer_sizes=(200,100),solver='adam',warm_start=True, max_iter=1,learning_rate_init=1,verbose=True)"
      ],
      "metadata": {
        "id": "A-_FDXiGT5UJ"
      },
      "execution_count": null,
      "outputs": []
    },
    {
      "cell_type": "code",
      "source": [
        "N_EPOCHS = 20\n",
        "scores_train1 = []\n",
        "scores_test1 = []\n",
        "scores_train2 = []\n",
        "scores_test2 = []\n",
        "epoch = 0\n",
        "while epoch < N_EPOCHS:\n",
        "  model1.fit(train_feats,train_labels)\n",
        "  scores_train1.append(model1.score(train_feats,train_labels))\n",
        "  scores_test1.append(model1.score(test_feats,test_labels))\n",
        "  model2.fit(train_feats,train_labels)\n",
        "  scores_train2.append(model2.score(train_feats,train_labels))\n",
        "  scores_test2.append(model2.score(test_feats,test_labels))\n",
        "  epoch += 1"
      ],
      "metadata": {
        "colab": {
          "base_uri": "https://localhost:8080/"
        },
        "id": "qpBBAUsgDmks",
        "outputId": "2780f16a-49f3-4bd9-8ff3-5349dada8831"
      },
      "execution_count": null,
      "outputs": [
        {
          "output_type": "stream",
          "name": "stdout",
          "text": [
            "Iteration 1, loss = 0.24999623\n"
          ]
        },
        {
          "output_type": "stream",
          "name": "stderr",
          "text": [
            "/usr/local/lib/python3.7/dist-packages/sklearn/neural_network/_multilayer_perceptron.py:696: ConvergenceWarning: Stochastic Optimizer: Maximum iterations (1) reached and the optimization hasn't converged yet.\n",
            "  ConvergenceWarning,\n"
          ]
        },
        {
          "output_type": "stream",
          "name": "stdout",
          "text": [
            "Iteration 1, loss = 4.03232918\n"
          ]
        },
        {
          "output_type": "stream",
          "name": "stderr",
          "text": [
            "/usr/local/lib/python3.7/dist-packages/sklearn/neural_network/_multilayer_perceptron.py:696: ConvergenceWarning: Stochastic Optimizer: Maximum iterations (1) reached and the optimization hasn't converged yet.\n",
            "  ConvergenceWarning,\n"
          ]
        },
        {
          "output_type": "stream",
          "name": "stdout",
          "text": [
            "Iteration 2, loss = 0.13183383\n",
            "Iteration 2, loss = 4.16834012\n",
            "Iteration 3, loss = 0.10854405\n",
            "Iteration 3, loss = 4.13357275\n",
            "Iteration 4, loss = 0.09246865\n",
            "Iteration 4, loss = 3.99862800\n",
            "Iteration 5, loss = 0.08693915\n",
            "Iteration 5, loss = 3.87310976\n",
            "Iteration 6, loss = 0.08333717\n",
            "Iteration 6, loss = 4.00846867\n",
            "Iteration 7, loss = 0.07676896\n",
            "Iteration 7, loss = 3.49561354\n",
            "Iteration 8, loss = 0.08051332\n",
            "Iteration 8, loss = 4.48275908\n",
            "Iteration 9, loss = 0.07262065\n",
            "Iteration 9, loss = 3.84536180\n",
            "Iteration 10, loss = 0.07235694\n",
            "Iteration 10, loss = 4.17234309\n",
            "Iteration 11, loss = 0.06782808\n",
            "Iteration 11, loss = 3.97686952\n",
            "Iteration 12, loss = 0.06865789\n",
            "Iteration 12, loss = 3.62077887\n",
            "Iteration 13, loss = 0.06695181\n",
            "Iteration 13, loss = 3.93115037\n",
            "Iteration 14, loss = 0.06643508\n",
            "Iteration 14, loss = 3.73328727\n",
            "Iteration 15, loss = 0.06580473\n",
            "Iteration 15, loss = 3.63440419\n",
            "Iteration 16, loss = 0.06620366\n",
            "Iteration 16, loss = 3.12547812\n",
            "Iteration 17, loss = 0.06236312\n",
            "Iteration 17, loss = 3.06029625\n",
            "Iteration 18, loss = 0.06449692\n",
            "Iteration 18, loss = 3.00356069\n",
            "Iteration 19, loss = 0.05483143\n",
            "Iteration 19, loss = 3.05105208\n",
            "Iteration 20, loss = 0.05762952\n",
            "Iteration 20, loss = 3.29807133\n"
          ]
        }
      ]
    },
    {
      "cell_type": "code",
      "source": [
        "import matplotlib.pyplot as plt\n",
        "\n",
        "\n",
        "plt.plot(scores_test1, color='magenta', alpha=0.6, label='Test')\n",
        "plt.plot(scores_train1, color='green', alpha=0.6, label='Train')\n",
        "plt.xlabel('Epochs')\n",
        "plt.legend(loc='Accurarcy')\n",
        "plt.show()"
      ],
      "metadata": {
        "id": "paw9xNcpbv9R",
        "colab": {
          "base_uri": "https://localhost:8080/",
          "height": 545
        },
        "outputId": "a47484d9-8ecb-4519-ace6-c8465cf3e26b"
      },
      "execution_count": null,
      "outputs": [
        {
          "output_type": "stream",
          "name": "stderr",
          "text": [
            "/usr/local/lib/python3.7/dist-packages/ipykernel_launcher.py:7: MatplotlibDeprecationWarning: Unrecognized location 'Accurarcy'. Falling back on 'best'; valid locations are\n",
            "\tbest\n",
            "\tupper right\n",
            "\tupper left\n",
            "\tlower left\n",
            "\tlower right\n",
            "\tright\n",
            "\tcenter left\n",
            "\tcenter right\n",
            "\tlower center\n",
            "\tupper center\n",
            "\tcenter\n",
            "This will raise an exception in 3.3.\n",
            "  import sys\n"
          ]
        },
        {
          "output_type": "display_data",
          "data": {
            "text/plain": [
              "<Figure size 432x288 with 1 Axes>"
            ],
            "image/png": "[encoded data removed]"
          },
          "metadata": {
            "needs_background": "light"
          }
        }
      ]
    },
    {
      "cell_type": "code",
      "source": [
        "plt.plot(scores_test2, color='magenta', alpha=0.6, label='Test')\n",
        "plt.plot(scores_train2, color='green', alpha=0.6, label='Train')\n",
        "plt.xlabel('Epochs')\n",
        "plt.legend(loc='Accurarcy')\n",
        "plt.show()"
      ],
      "metadata": {
        "id": "3pPVeqqTLUW6",
        "colab": {
          "base_uri": "https://localhost:8080/",
          "height": 542
        },
        "outputId": "63e623d5-94f6-49a0-fde9-8584213adc94"
      },
      "execution_count": null,
      "outputs": [
        {
          "output_type": "stream",
          "name": "stderr",
          "text": [
            "/usr/local/lib/python3.7/dist-packages/ipykernel_launcher.py:4: MatplotlibDeprecationWarning: Unrecognized location 'Accurarcy'. Falling back on 'best'; valid locations are\n",
            "\tbest\n",
            "\tupper right\n",
            "\tupper left\n",
            "\tlower left\n",
            "\tlower right\n",
            "\tright\n",
            "\tcenter left\n",
            "\tcenter right\n",
            "\tlower center\n",
            "\tupper center\n",
            "\tcenter\n",
            "This will raise an exception in 3.3.\n",
            "  after removing the cwd from sys.path.\n"
          ]
        },
        {
          "output_type": "display_data",
          "data": {
            "text/plain": [
              "<Figure size 432x288 with 1 Axes>"
            ],
            "image/png": "[encoded data removed]"
          },
          "metadata": {
            "needs_background": "light"
          }
        }
      ]
    },
    {
      "cell_type": "code",
      "source": [],
      "metadata": {
        "id": "bnogL8WNUNNx"
      },
      "execution_count": null,
      "outputs": []
    }
  ]
}